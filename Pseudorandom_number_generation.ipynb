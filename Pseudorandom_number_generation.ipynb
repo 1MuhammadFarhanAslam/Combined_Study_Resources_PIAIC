{
  "nbformat": 4,
  "nbformat_minor": 0,
  "metadata": {
    "colab": {
      "name": "Pseudorandom number generation.ipynb",
      "private_outputs": true,
      "provenance": []
    },
    "kernelspec": {
      "name": "python3",
      "display_name": "Python 3"
    },
    "accelerator": "TPU"
  },
  "cells": [
    {
      "cell_type": "code",
      "metadata": {
        "id": "EllMmRBJD_lV"
      },
      "source": [
        "import numpy as np"
      ],
      "execution_count": null,
      "outputs": []
    },
    {
      "cell_type": "code",
      "metadata": {
        "id": "mj9b3o7zECT6"
      },
      "source": [
        "samples = np.random.normal(size=(4, 4))\r\n",
        "samples"
      ],
      "execution_count": null,
      "outputs": []
    },
    {
      "cell_type": "code",
      "metadata": {
        "id": "JV1xhC1REHel"
      },
      "source": [
        "a1= np.random.randn(100)"
      ],
      "execution_count": null,
      "outputs": []
    },
    {
      "cell_type": "code",
      "metadata": {
        "id": "PfVNnCtqFXaw"
      },
      "source": [
        "a1"
      ],
      "execution_count": null,
      "outputs": []
    },
    {
      "cell_type": "code",
      "metadata": {
        "id": "wmQu7HPgFfjD"
      },
      "source": [
        "a2=np.random.seed(1234)\r\n",
        "a2"
      ],
      "execution_count": null,
      "outputs": []
    },
    {
      "cell_type": "code",
      "metadata": {
        "id": "nz5EJ8mrFv1L"
      },
      "source": [
        "rng = np.random.RandomState(1234)"
      ],
      "execution_count": null,
      "outputs": []
    },
    {
      "cell_type": "code",
      "metadata": {
        "id": "phrlfB4gFmz5"
      },
      "source": [
        "rng.randn(10)"
      ],
      "execution_count": null,
      "outputs": []
    },
    {
      "cell_type": "code",
      "metadata": {
        "id": "5aBvkr9MFt4n"
      },
      "source": [
        "rng = np.random.RandomState(100)"
      ],
      "execution_count": null,
      "outputs": []
    },
    {
      "cell_type": "code",
      "metadata": {
        "id": "3TSfJfE9Gc5u"
      },
      "source": [
        "rng.randn(10)"
      ],
      "execution_count": null,
      "outputs": []
    },
    {
      "cell_type": "code",
      "metadata": {
        "id": "TRFJ9wpMGgfQ"
      },
      "source": [
        "import random"
      ],
      "execution_count": null,
      "outputs": []
    },
    {
      "cell_type": "code",
      "metadata": {
        "id": "sPRT7CEwIctc"
      },
      "source": [
        "position = 0\r\n",
        "walk = [position]\r\n",
        "steps = 10000\r\n",
        "for i in range(steps):\r\n",
        "  step = 1 if random.randint(0, 1) else -1\r\n",
        "  position += step\r\n"
      ],
      "execution_count": null,
      "outputs": []
    },
    {
      "cell_type": "code",
      "metadata": {
        "id": "tMLLSIloJfKG"
      },
      "source": [
        "w1=walk.append(position)"
      ],
      "execution_count": null,
      "outputs": []
    },
    {
      "cell_type": "code",
      "metadata": {
        "id": "eyoragSLJur-"
      },
      "source": [
        "import matplotlib.pyplot as plt\r\n"
      ],
      "execution_count": null,
      "outputs": []
    },
    {
      "cell_type": "code",
      "metadata": {
        "id": "nLkkZGtlJ4uo"
      },
      "source": [
        "plt.plot(walk[:10000])"
      ],
      "execution_count": null,
      "outputs": []
    },
    {
      "cell_type": "code",
      "metadata": {
        "id": "IDsKJxZeLQV-"
      },
      "source": [
        "nsteps = 1000\r\n",
        "draws = np.random.randint(0, 2, size=nsteps)\r\n",
        "steps = np.where(draws > 0, 1, -1)\r\n",
        "walk = steps.cumsum()"
      ],
      "execution_count": null,
      "outputs": []
    },
    {
      "cell_type": "code",
      "metadata": {
        "id": "DOHl9tudLhhw"
      },
      "source": [
        "walk.min()\r\n"
      ],
      "execution_count": null,
      "outputs": []
    },
    {
      "cell_type": "code",
      "metadata": {
        "id": "948hHb-eMmSr"
      },
      "source": [
        "walk.max()\r\n"
      ],
      "execution_count": null,
      "outputs": []
    },
    {
      "cell_type": "code",
      "metadata": {
        "id": "hdp5S5UnMnub"
      },
      "source": [
        "np.where(draws>45)"
      ],
      "execution_count": null,
      "outputs": []
    },
    {
      "cell_type": "code",
      "metadata": {
        "id": "528icXjEM6OZ"
      },
      "source": [
        ""
      ],
      "execution_count": null,
      "outputs": []
    },
    {
      "cell_type": "code",
      "metadata": {
        "id": "UCJDNrM-M0SP"
      },
      "source": [
        ""
      ],
      "execution_count": null,
      "outputs": []
    }
  ]
}