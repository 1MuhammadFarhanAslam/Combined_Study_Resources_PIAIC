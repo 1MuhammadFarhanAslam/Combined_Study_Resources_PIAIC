{
 "cells": [
  {
   "cell_type": "code",
   "execution_count": 1,
   "metadata": {},
   "outputs": [],
   "source": [
    "import numpy as np"
   ]
  },
  {
   "cell_type": "markdown",
   "metadata": {},
   "source": [
    "# Scalars(0-D vectors)\n",
    "* Scalars = Array of only one number.\n",
    "* A tensor that contains only one number is called a scalar \n",
    "* (or scalar tensor, or 0-dimensional tensor, or 0D tensor).\n",
    "* number of axes of a Numpy tensor via the ndim attribute; a scalar tensor has 0 axes (ndim == 0)."
   ]
  },
  {
   "cell_type": "code",
   "execution_count": 3,
   "metadata": {},
   "outputs": [
    {
     "data": {
      "text/plain": [
       "array(20)"
      ]
     },
     "execution_count": 3,
     "metadata": {},
     "output_type": "execute_result"
    }
   ],
   "source": [
    "x= np.array(20)\n",
    "print(x)\n",
    "print(x.ndim)   #This is a scalar (As only one value can be assign, so there is no Dimension)."
   ]
  },
  {
   "cell_type": "code",
   "execution_count": null,
   "metadata": {},
   "outputs": [],
   "source": [
    "x1= np.array(20,22)    #Can not assign two values, it will generate error.\n",
    "x1"
   ]
  },
  {
   "cell_type": "code",
   "execution_count": 8,
   "metadata": {},
   "outputs": [
    {
     "data": {
      "text/plain": [
       "0"
      ]
     },
     "execution_count": 8,
     "metadata": {},
     "output_type": "execute_result"
    }
   ],
   "source": [
    "import numpy as np\n",
    "x = np.array(12)\n",
    "x.ndim"
   ]
  },
  {
   "cell_type": "markdown",
   "metadata": {},
   "source": [
    "# Vectors (1D tensors)\n",
    "* Vector= An array of numbers.\n",
    "* An array of numbers is called a vector, or 1D tensor. A 1D tensor is said to have exactly\n",
    "* one axis.\n",
    "* AXIS = Dimensions and Tensor is dimension based. if axis=2 then it is 2-D Tensor.\n",
    "* 5-D Tensor = a tensor of rank 5(the rank of a tensor being the number of axes)."
   ]
  },
  {
   "cell_type": "code",
   "execution_count": 14,
   "metadata": {},
   "outputs": [
    {
     "data": {
      "text/plain": [
       "array([12,  3,  6, 14])"
      ]
     },
     "execution_count": 14,
     "metadata": {},
     "output_type": "execute_result"
    }
   ],
   "source": [
    "x2 = np.array([12, 3, 6, 14])   # Python List as numpy array\n",
    "#print(x2)\n",
    "x2                # This is also aa array but has multiple elements in it.\n",
    "#print(x2.ndim)   # Dimension is 1 because it is an array of Multiple List's elements."
   ]
  },
  {
   "cell_type": "markdown",
   "metadata": {},
   "source": [
    "# Note\n",
    "*  This vector has five entries and so is called a 5-dimensional vector. Don’t confuse a 5D\n",
    "*  vector with a 5D tensor! A 5D vector has only one axis and has five dimensions along its\n",
    "*  axis, whereas a 5D tensor has five axes (and may have any number of dimensions\n",
    "*  along each axis). Dimensionality can denote either the number of entries along a specific axis    \n",
    "*  (as in the case of our 5D vector) or the number of axes in a tensor (such as a\n",
    "*  5D tensor), which can be confusing at times. In the latter case, it’s technically more\n",
    "*  correct to talk about a tensor of rank 5 (the rank of a tensor being the number of axes),\n",
    "*  but the ambiguous notation 5D tensor is common regardless."
   ]
  },
  {
   "cell_type": "code",
   "execution_count": null,
   "metadata": {},
   "outputs": [],
   "source": []
  },
  {
   "cell_type": "markdown",
   "metadata": {},
   "source": [
    "# Matrices (2D tensors)"
   ]
  },
  {
   "cell_type": "markdown",
   "metadata": {},
   "source": [
    "* An array of vectors is a matrix, or 2D tensor. A matrix has two axes (often referred to\n",
    "* rows and columns)."
   ]
  },
  {
   "cell_type": "code",
   "execution_count": 23,
   "metadata": {},
   "outputs": [
    {
     "name": "stdout",
     "output_type": "stream",
     "text": [
      "2\n"
     ]
    }
   ],
   "source": [
    "x = np.array([[5, 78, 2, 34, 0],\n",
    "              [6, 79, 3, 35, 1],\n",
    "              [7, 80, 4, 36, 2]])\n",
    "print(x.ndim)   # 2 axis, axis=0, and axis=1\n",
    "\n",
    "# The entries from the first axis are called the rows, and the entries from the second axis\n",
    "# are called the columns. In the previous example, [5, 78, 2, 34, 0] (axis=0) is the first row of x,\n",
    "# and [5, 6, 7] (axis=1) is the first column. "
   ]
  },
  {
   "cell_type": "markdown",
   "metadata": {},
   "source": [
    "# 3D tensors and higher-dimensional tensors"
   ]
  },
  {
   "cell_type": "markdown",
   "metadata": {},
   "source": [
    "* If you pack such matrices in a new array, you obtain a 3D tensor, which you can visually\n",
    "* interpret as a cube of numbers."
   ]
  },
  {
   "cell_type": "code",
   "execution_count": 25,
   "metadata": {},
   "outputs": [
    {
     "data": {
      "text/plain": [
       "3"
      ]
     },
     "execution_count": 25,
     "metadata": {},
     "output_type": "execute_result"
    }
   ],
   "source": [
    "x = np.array([[[5, 78, 2, 34, 0],\n",
    "               [6, 79, 3, 35, 1],\n",
    "               [7, 80, 4, 36, 2]],\n",
    "              [[5, 78, 2, 34, 0],\n",
    "               [6, 79, 3, 35, 1],\n",
    "               [7, 80, 4, 36, 2]],\n",
    "              [[5, 78, 2, 34, 0],\n",
    "               [6, 79, 3, 35, 1],\n",
    "               [7, 80, 4, 36, 2]]])\n",
    "x.ndim"
   ]
  },
  {
   "cell_type": "markdown",
   "metadata": {},
   "source": [
    "* By packing 3D tensors in an array, you can create a 4D tensor\n",
    "* and so on. In deep learning, you’ll generally manipulate tensors that are 0D to 4D,\n",
    "* although you may go up to 5D if you process video data. "
   ]
  },
  {
   "cell_type": "code",
   "execution_count": null,
   "metadata": {},
   "outputs": [],
   "source": []
  }
 ],
 "metadata": {
  "kernelspec": {
   "display_name": "Python 3",
   "language": "python",
   "name": "python3"
  },
  "language_info": {
   "codemirror_mode": {
    "name": "ipython",
    "version": 3
   },
   "file_extension": ".py",
   "mimetype": "text/x-python",
   "name": "python",
   "nbconvert_exporter": "python",
   "pygments_lexer": "ipython3",
   "version": "3.6.11"
  }
 },
 "nbformat": 4,
 "nbformat_minor": 4
}
