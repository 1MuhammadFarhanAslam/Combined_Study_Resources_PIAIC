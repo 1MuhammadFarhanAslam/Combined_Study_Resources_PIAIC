{
  "nbformat": 4,
  "nbformat_minor": 0,
  "metadata": {
    "colab": {
      "name": "Reindex.ipynb",
      "provenance": []
    },
    "kernelspec": {
      "name": "python3",
      "display_name": "Python 3"
    },
    "language_info": {
      "name": "python"
    }
  },
  "cells": [
    {
      "cell_type": "code",
      "metadata": {
        "id": "NztLCHjdtRX_"
      },
      "source": [
        "import numpy as np\n",
        "import pandas as pd"
      ],
      "execution_count": 1,
      "outputs": []
    },
    {
      "cell_type": "code",
      "metadata": {
        "colab": {
          "base_uri": "https://localhost:8080/"
        },
        "id": "xAqJHoPJ1O2w",
        "outputId": "74e1b842-6584-4569-da7e-a2e6eb51b5e4"
      },
      "source": [
        "obj3 = pd.Series(['blue', 'purple', 'yellow'], index=[0, 2, 4])   #Manually providing indexes.\n",
        "obj3"
      ],
      "execution_count": 2,
      "outputs": [
        {
          "output_type": "execute_result",
          "data": {
            "text/plain": [
              "0      blue\n",
              "2    purple\n",
              "4    yellow\n",
              "dtype: object"
            ]
          },
          "metadata": {
            "tags": []
          },
          "execution_count": 2
        }
      ]
    },
    {
      "cell_type": "code",
      "metadata": {
        "colab": {
          "base_uri": "https://localhost:8080/"
        },
        "id": "2279DM8G1QUC",
        "outputId": "cde7fefe-cd4d-49de-a7f2-e1a7ca8dd6ee"
      },
      "source": [
        "obj3.reindex(range(6))"
      ],
      "execution_count": 4,
      "outputs": [
        {
          "output_type": "execute_result",
          "data": {
            "text/plain": [
              "0      blue\n",
              "1       NaN\n",
              "2    purple\n",
              "3       NaN\n",
              "4    yellow\n",
              "5       NaN\n",
              "dtype: object"
            ]
          },
          "metadata": {
            "tags": []
          },
          "execution_count": 4
        }
      ]
    },
    {
      "cell_type": "code",
      "metadata": {
        "colab": {
          "base_uri": "https://localhost:8080/"
        },
        "id": "27Non5X_1ajl",
        "outputId": "d57d4d2c-2d77-4a1f-9db8-8158caada550"
      },
      "source": [
        "obj3.reindex(range(6), method='ffill')"
      ],
      "execution_count": 5,
      "outputs": [
        {
          "output_type": "execute_result",
          "data": {
            "text/plain": [
              "0      blue\n",
              "1      blue\n",
              "2    purple\n",
              "3    purple\n",
              "4    yellow\n",
              "5    yellow\n",
              "dtype: object"
            ]
          },
          "metadata": {
            "tags": []
          },
          "execution_count": 5
        }
      ]
    },
    {
      "cell_type": "code",
      "metadata": {
        "colab": {
          "base_uri": "https://localhost:8080/"
        },
        "id": "cbho5EBJ2KTN",
        "outputId": "0d8c8b1e-0162-4f6c-d616-2df5136a13d5"
      },
      "source": [
        "obj4 = pd.Series(['blue', 'purple', 'yellow',\"Abu Bakar\",\"Umar\",'Usman','Ali','Hussain'], index=[0, 4, 6,10,14,18,22,26])   #Manually providing indexes.\n",
        "obj4"
      ],
      "execution_count": 16,
      "outputs": [
        {
          "output_type": "execute_result",
          "data": {
            "text/plain": [
              "0          blue\n",
              "4        purple\n",
              "6        yellow\n",
              "10    Abu Bakar\n",
              "14         Umar\n",
              "18        Usman\n",
              "22          Ali\n",
              "26      Hussain\n",
              "dtype: object"
            ]
          },
          "metadata": {
            "tags": []
          },
          "execution_count": 16
        }
      ]
    },
    {
      "cell_type": "code",
      "metadata": {
        "colab": {
          "base_uri": "https://localhost:8080/"
        },
        "id": "lRtY3DNm2vjj",
        "outputId": "1c710282-81ad-4075-f0af-707a245234c8"
      },
      "source": [
        "obj4.reindex(range(30))"
      ],
      "execution_count": 18,
      "outputs": [
        {
          "output_type": "execute_result",
          "data": {
            "text/plain": [
              "0          blue\n",
              "1           NaN\n",
              "2           NaN\n",
              "3           NaN\n",
              "4        purple\n",
              "5           NaN\n",
              "6        yellow\n",
              "7           NaN\n",
              "8           NaN\n",
              "9           NaN\n",
              "10    Abu Bakar\n",
              "11          NaN\n",
              "12          NaN\n",
              "13          NaN\n",
              "14         Umar\n",
              "15          NaN\n",
              "16          NaN\n",
              "17          NaN\n",
              "18        Usman\n",
              "19          NaN\n",
              "20          NaN\n",
              "21          NaN\n",
              "22          Ali\n",
              "23          NaN\n",
              "24          NaN\n",
              "25          NaN\n",
              "26      Hussain\n",
              "27          NaN\n",
              "28          NaN\n",
              "29          NaN\n",
              "dtype: object"
            ]
          },
          "metadata": {
            "tags": []
          },
          "execution_count": 18
        }
      ]
    },
    {
      "cell_type": "code",
      "metadata": {
        "colab": {
          "base_uri": "https://localhost:8080/"
        },
        "id": "4RmYW1I12we3",
        "outputId": "ea70fa7d-546a-4592-ed47-09be15197098"
      },
      "source": [
        "obj4.reindex(range(30), method='ffill')    #previous index value will be filled forward."
      ],
      "execution_count": 20,
      "outputs": [
        {
          "output_type": "execute_result",
          "data": {
            "text/plain": [
              "0          blue\n",
              "1          blue\n",
              "2          blue\n",
              "3          blue\n",
              "4        purple\n",
              "5        purple\n",
              "6        yellow\n",
              "7        yellow\n",
              "8        yellow\n",
              "9        yellow\n",
              "10    Abu Bakar\n",
              "11    Abu Bakar\n",
              "12    Abu Bakar\n",
              "13    Abu Bakar\n",
              "14         Umar\n",
              "15         Umar\n",
              "16         Umar\n",
              "17         Umar\n",
              "18        Usman\n",
              "19        Usman\n",
              "20        Usman\n",
              "21        Usman\n",
              "22          Ali\n",
              "23          Ali\n",
              "24          Ali\n",
              "25          Ali\n",
              "26      Hussain\n",
              "27      Hussain\n",
              "28      Hussain\n",
              "29      Hussain\n",
              "dtype: object"
            ]
          },
          "metadata": {
            "tags": []
          },
          "execution_count": 20
        }
      ]
    },
    {
      "cell_type": "code",
      "metadata": {
        "colab": {
          "base_uri": "https://localhost:8080/"
        },
        "id": "omZVKUry31vX",
        "outputId": "dbde1a5d-36f1-487f-c8eb-7a74329a6076"
      },
      "source": [
        "obj4.reindex(range(30), method='bfill')   #Next index value will be filled backward."
      ],
      "execution_count": 21,
      "outputs": [
        {
          "output_type": "execute_result",
          "data": {
            "text/plain": [
              "0          blue\n",
              "1        purple\n",
              "2        purple\n",
              "3        purple\n",
              "4        purple\n",
              "5        yellow\n",
              "6        yellow\n",
              "7     Abu Bakar\n",
              "8     Abu Bakar\n",
              "9     Abu Bakar\n",
              "10    Abu Bakar\n",
              "11         Umar\n",
              "12         Umar\n",
              "13         Umar\n",
              "14         Umar\n",
              "15        Usman\n",
              "16        Usman\n",
              "17        Usman\n",
              "18        Usman\n",
              "19          Ali\n",
              "20          Ali\n",
              "21          Ali\n",
              "22          Ali\n",
              "23      Hussain\n",
              "24      Hussain\n",
              "25      Hussain\n",
              "26      Hussain\n",
              "27          NaN\n",
              "28          NaN\n",
              "29          NaN\n",
              "dtype: object"
            ]
          },
          "metadata": {
            "tags": []
          },
          "execution_count": 21
        }
      ]
    },
    {
      "cell_type": "code",
      "metadata": {
        "colab": {
          "base_uri": "https://localhost:8080/",
          "height": 136
        },
        "id": "mj_XEWgH47dm",
        "outputId": "519ea6b3-cc7a-45d9-fb9a-81401aae454d"
      },
      "source": [
        "frame = pd.DataFrame(np.arange(9).reshape((3, 3)),\n",
        "                    index=['a', 'c','d'],\n",
        "                    columns=['Ohio', 'Texas', 'California'])\n",
        "frame"
      ],
      "execution_count": 28,
      "outputs": [
        {
          "output_type": "execute_result",
          "data": {
            "text/html": [
              "<div>\n",
              "<style scoped>\n",
              "    .dataframe tbody tr th:only-of-type {\n",
              "        vertical-align: middle;\n",
              "    }\n",
              "\n",
              "    .dataframe tbody tr th {\n",
              "        vertical-align: top;\n",
              "    }\n",
              "\n",
              "    .dataframe thead th {\n",
              "        text-align: right;\n",
              "    }\n",
              "</style>\n",
              "<table border=\"1\" class=\"dataframe\">\n",
              "  <thead>\n",
              "    <tr style=\"text-align: right;\">\n",
              "      <th></th>\n",
              "      <th>Ohio</th>\n",
              "      <th>Texas</th>\n",
              "      <th>California</th>\n",
              "    </tr>\n",
              "  </thead>\n",
              "  <tbody>\n",
              "    <tr>\n",
              "      <th>a</th>\n",
              "      <td>0</td>\n",
              "      <td>1</td>\n",
              "      <td>2</td>\n",
              "    </tr>\n",
              "    <tr>\n",
              "      <th>c</th>\n",
              "      <td>3</td>\n",
              "      <td>4</td>\n",
              "      <td>5</td>\n",
              "    </tr>\n",
              "    <tr>\n",
              "      <th>d</th>\n",
              "      <td>6</td>\n",
              "      <td>7</td>\n",
              "      <td>8</td>\n",
              "    </tr>\n",
              "  </tbody>\n",
              "</table>\n",
              "</div>"
            ],
            "text/plain": [
              "   Ohio  Texas  California\n",
              "a     0      1           2\n",
              "c     3      4           5\n",
              "d     6      7           8"
            ]
          },
          "metadata": {
            "tags": []
          },
          "execution_count": 28
        }
      ]
    },
    {
      "cell_type": "code",
      "metadata": {
        "colab": {
          "base_uri": "https://localhost:8080/",
          "height": 166
        },
        "id": "tev1dqmw5nYd",
        "outputId": "9a15c681-ac61-421a-c15f-471d7b6de46c"
      },
      "source": [
        "frame2 = frame.reindex(['a', 'b', 'c', 'd'])\n",
        "frame2"
      ],
      "execution_count": 29,
      "outputs": [
        {
          "output_type": "execute_result",
          "data": {
            "text/html": [
              "<div>\n",
              "<style scoped>\n",
              "    .dataframe tbody tr th:only-of-type {\n",
              "        vertical-align: middle;\n",
              "    }\n",
              "\n",
              "    .dataframe tbody tr th {\n",
              "        vertical-align: top;\n",
              "    }\n",
              "\n",
              "    .dataframe thead th {\n",
              "        text-align: right;\n",
              "    }\n",
              "</style>\n",
              "<table border=\"1\" class=\"dataframe\">\n",
              "  <thead>\n",
              "    <tr style=\"text-align: right;\">\n",
              "      <th></th>\n",
              "      <th>Ohio</th>\n",
              "      <th>Texas</th>\n",
              "      <th>California</th>\n",
              "    </tr>\n",
              "  </thead>\n",
              "  <tbody>\n",
              "    <tr>\n",
              "      <th>a</th>\n",
              "      <td>0.0</td>\n",
              "      <td>1.0</td>\n",
              "      <td>2.0</td>\n",
              "    </tr>\n",
              "    <tr>\n",
              "      <th>b</th>\n",
              "      <td>NaN</td>\n",
              "      <td>NaN</td>\n",
              "      <td>NaN</td>\n",
              "    </tr>\n",
              "    <tr>\n",
              "      <th>c</th>\n",
              "      <td>3.0</td>\n",
              "      <td>4.0</td>\n",
              "      <td>5.0</td>\n",
              "    </tr>\n",
              "    <tr>\n",
              "      <th>d</th>\n",
              "      <td>6.0</td>\n",
              "      <td>7.0</td>\n",
              "      <td>8.0</td>\n",
              "    </tr>\n",
              "  </tbody>\n",
              "</table>\n",
              "</div>"
            ],
            "text/plain": [
              "   Ohio  Texas  California\n",
              "a   0.0    1.0         2.0\n",
              "b   NaN    NaN         NaN\n",
              "c   3.0    4.0         5.0\n",
              "d   6.0    7.0         8.0"
            ]
          },
          "metadata": {
            "tags": []
          },
          "execution_count": 29
        }
      ]
    },
    {
      "cell_type": "code",
      "metadata": {
        "colab": {
          "base_uri": "https://localhost:8080/"
        },
        "id": "ncfauG845pUl",
        "outputId": "d905b953-4f77-4416-e5ee-9e7cf6c99a32"
      },
      "source": [
        "'b' in frame2"
      ],
      "execution_count": 34,
      "outputs": [
        {
          "output_type": "execute_result",
          "data": {
            "text/plain": [
              "False"
            ]
          },
          "metadata": {
            "tags": []
          },
          "execution_count": 34
        }
      ]
    },
    {
      "cell_type": "code",
      "metadata": {
        "colab": {
          "base_uri": "https://localhost:8080/"
        },
        "id": "_wiqCLFe60rg",
        "outputId": "3bc4e5ad-6e76-4d74-a45c-67d5afb48f80"
      },
      "source": [
        "'Ohio' in frame2   # Columns are the target."
      ],
      "execution_count": 39,
      "outputs": [
        {
          "output_type": "execute_result",
          "data": {
            "text/plain": [
              "True"
            ]
          },
          "metadata": {
            "tags": []
          },
          "execution_count": 39
        }
      ]
    },
    {
      "cell_type": "code",
      "metadata": {
        "colab": {
          "base_uri": "https://localhost:8080/"
        },
        "id": "VEYQwsI763gB",
        "outputId": "9396b283-b942-417e-8c77-4413cf18939e"
      },
      "source": [
        "'a' in frame2"
      ],
      "execution_count": 40,
      "outputs": [
        {
          "output_type": "execute_result",
          "data": {
            "text/plain": [
              "False"
            ]
          },
          "metadata": {
            "tags": []
          },
          "execution_count": 40
        }
      ]
    },
    {
      "cell_type": "code",
      "metadata": {
        "colab": {
          "base_uri": "https://localhost:8080/"
        },
        "id": "ozpXFKPw6Ii4",
        "outputId": "6dc656f9-624e-405b-cb60-095f7113d267"
      },
      "source": [
        "frame2.iloc[2]      "
      ],
      "execution_count": 43,
      "outputs": [
        {
          "output_type": "execute_result",
          "data": {
            "text/plain": [
              "Ohio          3.0\n",
              "Texas         4.0\n",
              "California    5.0\n",
              "Name: c, dtype: float64"
            ]
          },
          "metadata": {
            "tags": []
          },
          "execution_count": 43
        }
      ]
    },
    {
      "cell_type": "code",
      "metadata": {
        "id": "nxQO8dYw8Slw"
      },
      "source": [
        ""
      ],
      "execution_count": null,
      "outputs": []
    }
  ]
}